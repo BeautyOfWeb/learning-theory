{
 "cells": [
  {
   "cell_type": "code",
   "execution_count": null,
   "metadata": {},
   "outputs": [],
   "source": [
    "import numpy as np\n",
    "import matplotlib.pyplot as plt\n",
    "\n",
    "import tensorflow as tf\n",
    "from tensorflow.python.layers import base\n",
    "from tensorflow.python.ops import nn\n",
    "import tensorflow.contrib.eager as tfe\n",
    "tfe.enable_eager_execution()"
   ]
  },
  {
   "cell_type": "code",
   "execution_count": 2,
   "metadata": {},
   "outputs": [
    {
     "data": {
      "image/png": "[encoded data removed]",
      "text/plain": [
       "<matplotlib.figure.Figure at 0x237277d9a58>"
      ]
     },
     "metadata": {},
     "output_type": "display_data"
    }
   ],
   "source": [
    "x = np.linspace(1,10,10).reshape(-1,1)\n",
    "y = np.random.randn(10).reshape(-1,1)\n",
    "\n",
    "plt.scatter(x, y)\n",
    "plt.plot(x, y, 'r--')\n",
    "plt.show()\n",
    "plt.close()\n",
    "\n",
    "x = tf.convert_to_tensor(x, dtype=tf.float32)\n",
    "y = tf.convert_to_tensor(y, dtype=tf.float32)"
   ]
  },
  {
   "cell_type": "code",
   "execution_count": 3,
   "metadata": {},
   "outputs": [],
   "source": [
    "class LinearFit(base.Layer):\n",
    "  def __init__(self, units, activation=nn.relu):\n",
    "    super(LinearFit, self).__init__()\n",
    "    self.layer1 = tf.layers.Dense(units=units, activation=activation)\n",
    "    self.layer2 = tf.layers.Dense(units=units, activation=activation)\n",
    "    self.layer3 = tf.layers.Dense(units=1)\n",
    "                                   \n",
    "  def call(self, inputs):\n",
    "    outputs = self.layer1(inputs)\n",
    "    outputs = self.layer2(outputs)\n",
    "    outputs = self.layer3(outputs)\n",
    "    return outputs"
   ]
  },
  {
   "cell_type": "code",
   "execution_count": 4,
   "metadata": {},
   "outputs": [],
   "source": [
    "def loss_fn(model, x, y):\n",
    "  y_ = model(x)\n",
    "  return tf.reduce_mean((y-y_)**2)"
   ]
  },
  {
   "cell_type": "code",
   "execution_count": 5,
   "metadata": {},
   "outputs": [],
   "source": [
    "def relu6(features, min_val=0, max_val=1):\n",
    "  return tf.minimum(tf.maximum(features, min_val),max_val)"
   ]
  },
  {
   "cell_type": "code",
   "execution_count": 6,
   "metadata": {},
   "outputs": [],
   "source": [
    "model = LinearFit(units=500, activation=relu6)"
   ]
  },
  {
   "cell_type": "code",
   "execution_count": 7,
   "metadata": {},
   "outputs": [],
   "source": [
    "optimizer = tf.train.AdamOptimizer(learning_rate=0.01)"
   ]
  },
  {
   "cell_type": "code",
   "execution_count": 8,
   "metadata": {},
   "outputs": [
    {
     "name": "stdout",
     "output_type": "stream",
     "text": [
      "tf.Tensor(1.3776708, shape=(), dtype=float32)\n",
      "tf.Tensor(0.5475561, shape=(), dtype=float32)\n",
      "tf.Tensor(0.54617804, shape=(), dtype=float32)\n",
      "tf.Tensor(0.5096978, shape=(), dtype=float32)\n",
      "tf.Tensor(0.48164767, shape=(), dtype=float32)\n",
      "tf.Tensor(0.41492596, shape=(), dtype=float32)\n",
      "tf.Tensor(0.35964745, shape=(), dtype=float32)\n",
      "tf.Tensor(0.33566734, shape=(), dtype=float32)\n",
      "tf.Tensor(0.2056118, shape=(), dtype=float32)\n",
      "tf.Tensor(0.17401722, shape=(), dtype=float32)\n",
      "tf.Tensor(0.08096804, shape=(), dtype=float32)\n",
      "tf.Tensor(0.060912717, shape=(), dtype=float32)\n",
      "tf.Tensor(0.008824693, shape=(), dtype=float32)\n",
      "tf.Tensor(0.0010215304, shape=(), dtype=float32)\n",
      "tf.Tensor(6.181824e-05, shape=(), dtype=float32)\n",
      "tf.Tensor(2.6450155e-06, shape=(), dtype=float32)\n",
      "tf.Tensor(7.364823e-08, shape=(), dtype=float32)\n",
      "tf.Tensor(1.0661996e-09, shape=(), dtype=float32)\n",
      "tf.Tensor(8.515983e-13, shape=(), dtype=float32)\n",
      "tf.Tensor(1.2997532e-13, shape=(), dtype=float32)\n"
     ]
    },
    {
     "data": {
      "image/png": "[encoded data removed]",
      "text/plain": [
       "<matplotlib.figure.Figure at 0x23727799ac8>"
      ]
     },
     "metadata": {},
     "output_type": "display_data"
    }
   ],
   "source": [
    "for i in range(2000):\n",
    "  loss = loss_fn(model, x, y)\n",
    "  grads = tfe.implicit_gradients(loss_fn)(model, x, y)\n",
    "  optimizer.apply_gradients(grads)\n",
    "  #optimizer.minimize(lambda: loss_fn(model, x, y))\n",
    "  if i%100 == 0:\n",
    "    print(loss)\n",
    "\n",
    "x_ = tf.convert_to_tensor(np.linspace(0, 11, 1000).reshape(-1,1), tf.float32)\n",
    "y_ = model(x_)\n",
    "\n",
    "plt.scatter(x.numpy(), y.numpy())\n",
    "plt.scatter(x_.numpy(), y_.numpy(), s=.1)\n",
    "#plt.plot(x.numpy(), y.numpy(), 'r--')\n",
    "plt.show()\n",
    "plt.close()"
   ]
  }
 ],
 "metadata": {
  "kernelspec": {
   "display_name": "Python 3",
   "language": "python",
   "name": "python3"
  },
  "language_info": {
   "codemirror_mode": {
    "name": "ipython",
    "version": 3
   },
   "file_extension": ".py",
   "mimetype": "text/x-python",
   "name": "python",
   "nbconvert_exporter": "python",
   "pygments_lexer": "ipython3",
   "version": "3.6.4"
  }
 },
 "nbformat": 4,
 "nbformat_minor": 2
}
